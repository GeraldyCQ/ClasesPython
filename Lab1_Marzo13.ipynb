{
  "nbformat": 4,
  "nbformat_minor": 0,
  "metadata": {
    "colab": {
      "name": "Lab1_Marzo13.ipynb",
      "provenance": [],
      "collapsed_sections": [],
      "authorship_tag": "ABX9TyMnQeO5KHSL3STbxHbYqg5i",
      "include_colab_link": true
    },
    "kernelspec": {
      "name": "python3",
      "display_name": "Python 3"
    }
  },
  "cells": [
    {
      "cell_type": "markdown",
      "metadata": {
        "id": "view-in-github",
        "colab_type": "text"
      },
      "source": [
        "<a href=\"https://colab.research.google.com/github/GeraldyCQ/ClasesPython/blob/main/Lab1_Marzo13.ipynb\" target=\"_parent\"><img src=\"https://colab.research.google.com/assets/colab-badge.svg\" alt=\"Open In Colab\"/></a>"
      ]
    },
    {
      "cell_type": "code",
      "metadata": {
        "colab": {
          "base_uri": "https://localhost:8080/"
        },
        "id": "v6vA8haJgBU_",
        "outputId": "4ea95b6b-47a1-4b66-f7f4-e912e8c40e90"
      },
      "source": [
        "###Ejercicio #1\n",
        "palabra =\"Hola Mundo\"\n",
        "###definimos letra como variable y enumerate va indicando letra por letra de la variable palabra\n",
        "#for letra in enumerate(palabra):print(letra)\n",
        "\n",
        "###Ejercicio #2\n",
        "matriz = [letra for letra in palabra]\n",
        "#print (matriz)\n",
        "\n",
        "###Ejercicio #3\n",
        "texto=\"Hola Mundo\"\n",
        "matriz=[palabra for palabra in str.split(texto)]\n",
        "#print (matriz)\n",
        "\n",
        "###Ejercicio #4\n",
        "precio =[200,150,30,85,54,12]\n",
        "precioFinal=[round(precioUnico*1.13) for precioUnico in precio]\n",
        "#print ( precioFinal)\n",
        "\n",
        "###Ejercicio #5\n",
        "### multiplicamos dos matrices y dos for aninados\n",
        "precio =[200,150,30,85,54,12]\n",
        "cantidad=[2,5,3]\n",
        "precioFinal=[cant*prec \\\n",
        "         for cant in cantidad \n",
        "         for prec in precio]\n",
        "#print (precioFinal)\n",
        "\n",
        "###Ejercicio #6\n",
        "###ordenar lista de palabras\n",
        "lista=(\"wiki\",\"peras\",\"manzanas\",\"uvas\",\"naranjas\")\n",
        "orden=sorted(lista)\n",
        "#print (lista)\n",
        "#print (orden)\n",
        "\n",
        "###Ejercicio #7\n",
        "ingresos=[200,150,30,85,54,12]\n",
        "gastos=[15,87,36,45,87,12,95,65,11,33,74]\n",
        "totalIngresos=0\n",
        "totalGastos=0\n",
        "\n",
        "for indice in ingresos:totalIngresos=indice+totalIngresos\n",
        "for indice2 in gastos:totalGastos=indice2+totalGastos\n",
        "#print (totalIngresos)\n",
        "#print (totalGastos)\n",
        "\n",
        "if totalIngresos < totalGastos:print (\"Obtuvimos una \\\"--{'Perdida'}--\\\"  ya que el total de ingreso son %i  y el total de gasto son %i \" % (totalIngresos,totalGastos)) \n",
        "elif totalIngresos > totalGastos:print (\"Obtuvimos una --{'Ganancia'}-- ya que el total de ingreso son %i  y el total de gasto son %i \" % (totalIngresos,totalGastos))\n",
        "\n",
        "      "
      ],
      "execution_count": null,
      "outputs": [
        {
          "output_type": "stream",
          "text": [
            "Obtuvimos una \"--{'Perdida'}--\"  ya que el total de ingreso son 531  y el total de gasto son 560 \n"
          ],
          "name": "stdout"
        }
      ]
    }
  ]
}